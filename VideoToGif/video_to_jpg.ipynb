{
 "cells": [
  {
   "cell_type": "code",
   "execution_count": 2,
   "id": "bd46f913",
   "metadata": {},
   "outputs": [
    {
     "name": "stdout",
     "output_type": "stream",
     "text": [
      "Collecting opencv-python\n",
      "  Downloading opencv_python-4.10.0.84-cp37-abi3-win_amd64.whl (38.8 MB)\n",
      "                                              0.0/38.8 MB ? eta -:--:--\n",
      "     -                                        1.8/38.8 MB 57.8 MB/s eta 0:00:01\n",
      "     ----                                     4.4/38.8 MB 46.4 MB/s eta 0:00:01\n",
      "     -------                                  7.0/38.8 MB 55.9 MB/s eta 0:00:01\n",
      "     -------                                  7.5/38.8 MB 43.7 MB/s eta 0:00:01\n",
      "     -------                                  7.6/38.8 MB 34.8 MB/s eta 0:00:01\n",
      "     --------                                 7.8/38.8 MB 31.0 MB/s eta 0:00:02\n",
      "     --------                                 8.1/38.8 MB 25.9 MB/s eta 0:00:02\n",
      "     ---------                                9.7/38.8 MB 27.0 MB/s eta 0:00:02\n",
      "     ------------                            12.3/38.8 MB 28.5 MB/s eta 0:00:01\n",
      "     --------------                          14.9/38.8 MB 28.5 MB/s eta 0:00:01\n",
      "     -----------------                       17.5/38.8 MB 29.7 MB/s eta 0:00:01\n",
      "     --------------------                    20.1/38.8 MB 59.5 MB/s eta 0:00:01\n",
      "     ----------------------                  22.2/38.8 MB 54.4 MB/s eta 0:00:01\n",
      "     ----------------------                  22.2/38.8 MB 54.4 MB/s eta 0:00:01\n",
      "     ----------------------                  22.3/38.8 MB 38.5 MB/s eta 0:00:01\n",
      "     ----------------------                  22.4/38.8 MB 34.4 MB/s eta 0:00:01\n",
      "     ----------------------                  22.6/38.8 MB 28.5 MB/s eta 0:00:01\n",
      "     ----------------------                  22.9/38.8 MB 25.2 MB/s eta 0:00:01\n",
      "     -------------------------               24.9/38.8 MB 24.2 MB/s eta 0:00:01\n",
      "     ---------------------------             27.6/38.8 MB 24.2 MB/s eta 0:00:01\n",
      "     ----------------------------            28.8/38.8 MB 23.4 MB/s eta 0:00:01\n",
      "     -----------------------------           29.6/38.8 MB 22.6 MB/s eta 0:00:01\n",
      "     --------------------------------        32.6/38.8 MB 31.2 MB/s eta 0:00:01\n",
      "     -----------------------------------     35.1/38.8 MB 46.7 MB/s eta 0:00:01\n",
      "     -------------------------------------   37.3/38.8 MB 43.5 MB/s eta 0:00:01\n",
      "     --------------------------------------  38.8/38.8 MB 43.7 MB/s eta 0:00:01\n",
      "     --------------------------------------  38.8/38.8 MB 43.7 MB/s eta 0:00:01\n",
      "     --------------------------------------  38.8/38.8 MB 43.7 MB/s eta 0:00:01\n",
      "     --------------------------------------- 38.8/38.8 MB 27.3 MB/s eta 0:00:00\n",
      "Requirement already satisfied: numpy>=1.21.2 in c:\\users\\jihoon\\appdata\\local\\anaconda3\\lib\\site-packages (from opencv-python) (1.24.3)\n",
      "Installing collected packages: opencv-python\n",
      "Successfully installed opencv-python-4.10.0.84\n"
     ]
    }
   ],
   "source": [
    "!pip install opencv-python"
   ]
  },
  {
   "cell_type": "code",
   "execution_count": 2,
   "id": "1e0f2292",
   "metadata": {},
   "outputs": [],
   "source": [
    "import cv2\n",
    "import os\n",
    "from PIL import Image"
   ]
  },
  {
   "cell_type": "code",
   "execution_count": 3,
   "id": "52c811c6",
   "metadata": {},
   "outputs": [],
   "source": [
    "filepath = './sample.mp4'\n",
    "video = cv2.VideoCapture(filepath)\n",
    "filename = 'sample'\n",
    "\n",
    "frame_cnt = int(video.get(cv2.CAP_PROP_FRAME_COUNT))\n",
    "fps = int(video.get(cv2.CAP_PROP_FPS))\n",
    "\n",
    "try:\n",
    "    if not os.path.exists(filename):\n",
    "        os.makedirs(filename)\n",
    "except OSError:\n",
    "    print ('Error: Creating directory. ' +  filename)\n",
    "\n",
    "for i in range(frame_cnt):\n",
    "    ret, frame = video.read()\n",
    "    if ret:\n",
    "        save_path = f\"{filename}/{i}.jpg\"\n",
    "        cv2.imwrite(save_path, frame)\n",
    "\n",
    "video.release()"
   ]
  },
  {
   "cell_type": "code",
   "execution_count": 4,
   "id": "e7c3b795",
   "metadata": {},
   "outputs": [],
   "source": [
    "imgs = os.listdir(filename)\n",
    "imgs.sort(key=lambda x: int(x.split('.')[0]))\n",
    "imgs = [filename + '/' + x for x in imgs]\n",
    "imgs = [cv2.imread(x)[117:580, 426:998] for x in imgs]\n",
    "for i in range(len(imgs)):\n",
    "    cv2.imwrite(f'{filename}/{i}.jpg', imgs[i])"
   ]
  },
  {
   "cell_type": "code",
   "execution_count": 5,
   "id": "11cc43cb",
   "metadata": {},
   "outputs": [],
   "source": [
    "imgs = os.listdir(filename)\n",
    "imgs.sort(key=lambda x: int(x.split('.')[0]))\n",
    "imgs = [filename + '/' + x for x in imgs]\n",
    "imgs = [Image.open(x) for x in imgs]\n",
    "\n",
    "im = imgs[0]\n",
    "im.save(f'{filename}.gif', save_all=True, append_images=imgs[1:], loop=0, duration=(1/fps)*1000)"
   ]
  }
 ],
 "metadata": {
  "kernelspec": {
   "display_name": "Python 3 (ipykernel)",
   "language": "python",
   "name": "python3"
  },
  "language_info": {
   "codemirror_mode": {
    "name": "ipython",
    "version": 3
   },
   "file_extension": ".py",
   "mimetype": "text/x-python",
   "name": "python",
   "nbconvert_exporter": "python",
   "pygments_lexer": "ipython3",
   "version": "3.11.3"
  }
 },
 "nbformat": 4,
 "nbformat_minor": 5
}
